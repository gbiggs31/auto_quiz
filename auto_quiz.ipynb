{
 "cells": [
  {
   "cell_type": "code",
   "execution_count": 9,
   "metadata": {},
   "outputs": [
    {
     "name": "stdout",
     "output_type": "stream",
     "text": [
      "Requirement already satisfied: beautifulsoup4 in c:\\users\\georg\\onedrive\\documents\\github\\auto_quiz\\lib\\site-packages (4.9.1)\n",
      "Requirement already satisfied: soupsieve>1.2 in c:\\users\\georg\\onedrive\\documents\\github\\auto_quiz\\lib\\site-packages (from beautifulsoup4) (2.0.1)\n",
      "Collecting requests\n",
      "  Downloading requests-2.24.0-py2.py3-none-any.whl (61 kB)\n",
      "Collecting chardet<4,>=3.0.2\n",
      "  Downloading chardet-3.0.4-py2.py3-none-any.whl (133 kB)\n",
      "Collecting certifi>=2017.4.17\n",
      "  Downloading certifi-2020.6.20-py2.py3-none-any.whl (156 kB)\n",
      "Collecting urllib3!=1.25.0,!=1.25.1,<1.26,>=1.21.1\n",
      "  Downloading urllib3-1.25.9-py2.py3-none-any.whl (126 kB)\n",
      "Collecting idna<3,>=2.5\n",
      "  Downloading idna-2.10-py2.py3-none-any.whl (58 kB)\n",
      "Installing collected packages: chardet, certifi, urllib3, idna, requests\n",
      "Successfully installed certifi-2020.6.20 chardet-3.0.4 idna-2.10 requests-2.24.0 urllib3-1.25.9\n"
     ]
    }
   ],
   "source": [
    "!pip install beautifulsoup4\n",
    "!pip install requests"
   ]
  },
  {
   "cell_type": "code",
   "execution_count": 2,
   "metadata": {},
   "outputs": [
    {
     "name": "stdout",
     "output_type": "stream",
     "text": [
      "Package            Version\n",
      "------------------ -------\n",
      "attrs              19.3.0\n",
      "backcall           0.2.0\n",
      "beautifulsoup4     4.9.1\n",
      "bleach             3.1.5\n",
      "colorama           0.4.3\n",
      "decorator          4.4.2\n",
      "defusedxml         0.6.0\n",
      "entrypoints        0.3\n",
      "importlib-metadata 1.7.0\n",
      "ipykernel          5.3.2\n",
      "ipython            7.16.1\n",
      "ipython-genutils   0.2.0\n",
      "ipywidgets         7.5.1\n",
      "jedi               0.17.1\n",
      "Jinja2             2.11.2\n",
      "jsonschema         3.2.0\n",
      "jupyter            1.0.0\n",
      "jupyter-client     6.1.5\n",
      "jupyter-console    6.1.0\n",
      "jupyter-core       4.6.3\n",
      "MarkupSafe         1.1.1\n",
      "mistune            0.8.4\n",
      "nbconvert          5.6.1\n",
      "nbformat           5.0.7\n",
      "notebook           6.0.3\n",
      "numpy              1.19.0\n",
      "packaging          20.4\n",
      "pandas             1.0.5\n",
      "pandocfilters      1.4.2\n",
      "parso              0.7.0\n",
      "pickleshare        0.7.5\n",
      "pip                20.1.1\n",
      "prometheus-client  0.8.0\n",
      "prompt-toolkit     3.0.5\n",
      "Pygments           2.6.1\n",
      "pyparsing          2.4.7\n",
      "pyrsistent         0.16.0\n",
      "python-dateutil    2.8.1\n",
      "pytz               2020.1\n",
      "pywin32            228\n",
      "pywinpty           0.5.7\n",
      "pyzmq              19.0.1\n",
      "qtconsole          4.7.5\n",
      "QtPy               1.9.0\n",
      "Send2Trash         1.5.0\n",
      "setuptools         49.1.0\n",
      "six                1.15.0\n",
      "soupsieve          2.0.1\n",
      "terminado          0.8.3\n",
      "testpath           0.4.4\n",
      "tornado            6.0.4\n",
      "traitlets          4.3.3\n",
      "wcwidth            0.2.5\n",
      "webencodings       0.5.1\n",
      "wheel              0.34.2\n",
      "widgetsnbextension 3.5.1\n",
      "zipp               3.1.0\n"
     ]
    }
   ],
   "source": [
    "!pip list"
   ]
  },
  {
   "cell_type": "markdown",
   "metadata": {},
   "source": [
    "# Import packages"
   ]
  },
  {
   "cell_type": "code",
   "execution_count": 19,
   "metadata": {},
   "outputs": [],
   "source": [
    "import numpy as np\n",
    "import pandas as pd\n",
    "from bs4 import BeautifulSoup\n",
    "import requests"
   ]
  },
  {
   "cell_type": "markdown",
   "metadata": {},
   "source": [
    "# Test Scraping"
   ]
  },
  {
   "cell_type": "code",
   "execution_count": 91,
   "metadata": {},
   "outputs": [],
   "source": [
    "page_result = requests.get('https://en.wikipedia.org/wiki/Special:Random')"
   ]
  },
  {
   "cell_type": "code",
   "execution_count": 92,
   "metadata": {},
   "outputs": [],
   "source": [
    "soup = BeautifulSoup(page_result.content, 'html.parser')"
   ]
  },
  {
   "cell_type": "code",
   "execution_count": 93,
   "metadata": {},
   "outputs": [],
   "source": [
    "# looks like it will be a variable paragraph that we need\n",
    "# soup.find_all('div', class_ = 'mw-parser-output') #[0].get_text()"
   ]
  },
  {
   "cell_type": "code",
   "execution_count": null,
   "metadata": {},
   "outputs": [],
   "source": [
    "first_paragraph = soup.select('p')[0] #[0].get_text()"
   ]
  },
  {
   "cell_type": "code",
   "execution_count": 94,
   "metadata": {},
   "outputs": [
    {
     "data": {
      "text/plain": [
       "<p><i><b>Punk Sucks</b></i> is a <a href=\"/wiki/California\" title=\"California\">California</a> <a href=\"/wiki/Punk_rock\" title=\"Punk rock\">punk rock</a> <a href=\"/wiki/Compilation_album\" title=\"Compilation album\">compilation album</a>, released  by Southern California-based <a href=\"/wiki/Liberation_Records\" title=\"Liberation Records\">Liberation Records</a> in 1995.   \n",
       "</p>"
      ]
     },
     "execution_count": 94,
     "metadata": {},
     "output_type": "execute_result"
    }
   ],
   "source": []
  },
  {
   "cell_type": "markdown",
   "metadata": {},
   "source": [
    "# use the api idiot"
   ]
  },
  {
   "cell_type": "code",
   "execution_count": 97,
   "metadata": {},
   "outputs": [
    {
     "name": "stdout",
     "output_type": "stream",
     "text": [
      "Collecting wikipedia\n",
      "  Downloading wikipedia-1.4.0.tar.gz (27 kB)\n",
      "Requirement already satisfied: beautifulsoup4 in c:\\users\\georg\\onedrive\\documents\\github\\auto_quiz\\lib\\site-packages (from wikipedia) (4.9.1)\n",
      "Requirement already satisfied: requests<3.0.0,>=2.0.0 in c:\\users\\georg\\onedrive\\documents\\github\\auto_quiz\\lib\\site-packages (from wikipedia) (2.24.0)\n",
      "Requirement already satisfied: soupsieve>1.2 in c:\\users\\georg\\onedrive\\documents\\github\\auto_quiz\\lib\\site-packages (from beautifulsoup4->wikipedia) (2.0.1)\n",
      "Requirement already satisfied: urllib3!=1.25.0,!=1.25.1,<1.26,>=1.21.1 in c:\\users\\georg\\onedrive\\documents\\github\\auto_quiz\\lib\\site-packages (from requests<3.0.0,>=2.0.0->wikipedia) (1.25.9)\n",
      "Requirement already satisfied: certifi>=2017.4.17 in c:\\users\\georg\\onedrive\\documents\\github\\auto_quiz\\lib\\site-packages (from requests<3.0.0,>=2.0.0->wikipedia) (2020.6.20)\n",
      "Requirement already satisfied: idna<3,>=2.5 in c:\\users\\georg\\onedrive\\documents\\github\\auto_quiz\\lib\\site-packages (from requests<3.0.0,>=2.0.0->wikipedia) (2.10)\n",
      "Requirement already satisfied: chardet<4,>=3.0.2 in c:\\users\\georg\\onedrive\\documents\\github\\auto_quiz\\lib\\site-packages (from requests<3.0.0,>=2.0.0->wikipedia) (3.0.4)\n",
      "Building wheels for collected packages: wikipedia\n",
      "  Building wheel for wikipedia (setup.py): started\n",
      "  Building wheel for wikipedia (setup.py): finished with status 'done'\n",
      "  Created wheel for wikipedia: filename=wikipedia-1.4.0-py3-none-any.whl size=11689 sha256=89d2110048f650e69bd2b4ed849e8065a93dd54b100d16005524ad4f16726d5b\n",
      "  Stored in directory: c:\\users\\georg\\appdata\\local\\pip\\cache\\wheels\\15\\93\\6d\\5b2c68b8a64c7a7a04947b4ed6d89fb557dcc6bc27d1d7f3ba\n",
      "Successfully built wikipedia\n",
      "Installing collected packages: wikipedia\n",
      "Successfully installed wikipedia-1.4.0\n"
     ]
    }
   ],
   "source": [
    "!pip install wikipedia"
   ]
  },
  {
   "cell_type": "markdown",
   "metadata": {},
   "source": [
    "## Get the article"
   ]
  },
  {
   "cell_type": "code",
   "execution_count": 131,
   "metadata": {},
   "outputs": [],
   "source": [
    "import re"
   ]
  },
  {
   "cell_type": "code",
   "execution_count": 148,
   "metadata": {},
   "outputs": [
    {
     "data": {
      "text/plain": [
       "'United Nations Security Council Resolution 234, was adopted on June 7, 1967, after its appeal to the governments concerned to immediately cease all military activities in the Near East failed. The Council, concerned with the possibility of a broader conflict, demanded that the governments involved discontinue all military activities by 20:00 GMT on June 7, 1967.  The Council also requested that the Secretary-General keep them promptly and currently informed on the situation.\\nThe meeting was called by the Soviet Union and the resolution passed unanimously. Jordan and Israel accepted the resolution, provided other parties accepted as well. The following day the United Arab Republic also accepted the ceasefire solution, on condition of reciprocity.'"
      ]
     },
     "execution_count": 148,
     "metadata": {},
     "output_type": "execute_result"
    }
   ],
   "source": [
    "page"
   ]
  },
  {
   "cell_type": "code",
   "execution_count": null,
   "metadata": {},
   "outputs": [],
   "source": []
  },
  {
   "cell_type": "code",
   "execution_count": 172,
   "metadata": {},
   "outputs": [
    {
     "ename": "IndexError",
     "evalue": "list index out of range",
     "output_type": "error",
     "traceback": [
      "\u001b[1;31m---------------------------------------------------------------------------\u001b[0m",
      "\u001b[1;31mIndexError\u001b[0m                                Traceback (most recent call last)",
      "\u001b[1;32m<ipython-input-172-ceb2cf85a54e>\u001b[0m in \u001b[0;36m<module>\u001b[1;34m\u001b[0m\n\u001b[0;32m      6\u001b[0m \u001b[1;31m# page = wiki_wiki.page('Mathematics')\u001b[0m\u001b[1;33m\u001b[0m\u001b[1;33m\u001b[0m\u001b[1;33m\u001b[0m\u001b[0m\n\u001b[0;32m      7\u001b[0m \u001b[0mfirst_sentence\u001b[0m \u001b[1;33m=\u001b[0m \u001b[0mre\u001b[0m\u001b[1;33m.\u001b[0m\u001b[0msplit\u001b[0m\u001b[1;33m(\u001b[0m\u001b[1;34m'[.] '\u001b[0m\u001b[1;33m,\u001b[0m\u001b[0mstr\u001b[0m\u001b[1;33m(\u001b[0m\u001b[0mpage\u001b[0m\u001b[1;33m)\u001b[0m\u001b[1;33m)\u001b[0m\u001b[1;33m[\u001b[0m\u001b[1;36m0\u001b[0m\u001b[1;33m]\u001b[0m \u001b[1;33m+\u001b[0m \u001b[1;34m'.'\u001b[0m\u001b[1;33m\u001b[0m\u001b[1;33m\u001b[0m\u001b[0m\n\u001b[1;32m----> 8\u001b[1;33m \u001b[0msecond_sentence\u001b[0m \u001b[1;33m=\u001b[0m \u001b[0mre\u001b[0m\u001b[1;33m.\u001b[0m\u001b[0msplit\u001b[0m\u001b[1;33m(\u001b[0m\u001b[1;34m'[.] '\u001b[0m\u001b[1;33m,\u001b[0m\u001b[0mstr\u001b[0m\u001b[1;33m(\u001b[0m\u001b[0mpage\u001b[0m\u001b[1;33m)\u001b[0m\u001b[1;33m)\u001b[0m\u001b[1;33m[\u001b[0m\u001b[1;36m1\u001b[0m\u001b[1;33m]\u001b[0m \u001b[1;33m+\u001b[0m \u001b[1;34m'.'\u001b[0m\u001b[1;33m\u001b[0m\u001b[1;33m\u001b[0m\u001b[0m\n\u001b[0m\u001b[0;32m      9\u001b[0m \u001b[1;33m\u001b[0m\u001b[0m\n\u001b[0;32m     10\u001b[0m \u001b[1;31m# print(page)\u001b[0m\u001b[1;33m\u001b[0m\u001b[1;33m\u001b[0m\u001b[1;33m\u001b[0m\u001b[0m\n",
      "\u001b[1;31mIndexError\u001b[0m: list index out of range"
     ]
    }
   ],
   "source": [
    "import wikipedia\n",
    "\n",
    "term = wikipedia.random(pages=1)\n",
    "# wiki_wiki = wikipedia.Wikipedia('en')\n",
    "page = wikipedia.summary(str(term))\n",
    "# page = wiki_wiki.page('Mathematics')\n",
    "first_sentence = re.split('[.] ',str(page))[0] + '.'\n",
    "second_sentence = re.split('[.] ',str(page))[1] + '.'\n",
    "\n",
    "# print(page)\n",
    "# print(first_sentence)\n",
    "# print(second_sentence)\n",
    "# print(page)"
   ]
  },
  {
   "cell_type": "markdown",
   "metadata": {},
   "source": [
    "## split the question into quiz format"
   ]
  },
  {
   "cell_type": "code",
   "execution_count": 168,
   "metadata": {},
   "outputs": [],
   "source": [
    "blank = re.split('is|was',str(first_sentence),1)[0]\n",
    "question = 'BLANK is/was' + re.split('is|was',str(first_sentence), 1)[1]"
   ]
  },
  {
   "cell_type": "code",
   "execution_count": 169,
   "metadata": {},
   "outputs": [
    {
     "data": {
      "text/plain": [
       "'BLANK is/was an Italian research center for telecommunication based in Torino, the biggest in Italy and one of the most important in Europe.'"
      ]
     },
     "execution_count": 169,
     "metadata": {},
     "output_type": "execute_result"
    }
   ],
   "source": [
    "question"
   ]
  },
  {
   "cell_type": "code",
   "execution_count": 170,
   "metadata": {},
   "outputs": [
    {
     "data": {
      "text/plain": [
       "'It played a big role internationally especially in the standardization of protocols and technologies in telecommunication: perhaps the most widely well known is the standardization of mp3.'"
      ]
     },
     "execution_count": 170,
     "metadata": {},
     "output_type": "execute_result"
    }
   ],
   "source": [
    "second_sentence"
   ]
  },
  {
   "cell_type": "code",
   "execution_count": 166,
   "metadata": {},
   "outputs": [
    {
     "data": {
      "text/plain": [
       "'United Nations Security Council Resolution 234, '"
      ]
     },
     "execution_count": 166,
     "metadata": {},
     "output_type": "execute_result"
    }
   ],
   "source": [
    "# print the removed subject\n",
    "blank"
   ]
  },
  {
   "cell_type": "markdown",
   "metadata": {},
   "source": [
    "# Get top articles to make it easier"
   ]
  },
  {
   "cell_type": "code",
   "execution_count": 173,
   "metadata": {},
   "outputs": [],
   "source": [
    "top_articles = requests.get('https://wikimedia.org/api/rest_v1/metrics/pageviews/top/en.wikipedia/all-access/2015/10/10')"
   ]
  },
  {
   "cell_type": "code",
   "execution_count": 185,
   "metadata": {},
   "outputs": [],
   "source": [
    "# top_articles\n",
    "# soup = BeautifulSoup(top_articles.content, 'html.parser')\n",
    "# top_articles.content\n",
    "# soup.to_dict"
   ]
  },
  {
   "cell_type": "code",
   "execution_count": 199,
   "metadata": {},
   "outputs": [],
   "source": [
    "import json\n",
    "data = top_articles.json()"
   ]
  },
  {
   "cell_type": "code",
   "execution_count": 209,
   "metadata": {},
   "outputs": [
    {
     "data": {
      "text/plain": [
       "'Main_Page'"
      ]
     },
     "execution_count": 209,
     "metadata": {},
     "output_type": "execute_result"
    }
   ],
   "source": [
    "data['items'][0]['articles'][0]['article']"
   ]
  },
  {
   "cell_type": "code",
   "execution_count": 211,
   "metadata": {},
   "outputs": [],
   "source": [
    "# randomly select item from list in top 20% for now\n",
    "import random\n",
    "article_number = random.randrange(3,100)"
   ]
  },
  {
   "cell_type": "code",
   "execution_count": 212,
   "metadata": {},
   "outputs": [
    {
     "data": {
      "text/plain": [
       "'Pan_(2015_film)'"
      ]
     },
     "execution_count": 212,
     "metadata": {},
     "output_type": "execute_result"
    }
   ],
   "source": [
    "data['items'][0]['articles'][article_number]['article']"
   ]
  },
  {
   "cell_type": "code",
   "execution_count": null,
   "metadata": {},
   "outputs": [],
   "source": [
    "# works for now, rewrite into functions"
   ]
  },
  {
   "cell_type": "markdown",
   "metadata": {},
   "source": [
    "# Turn everything into functions now demonstrated it works"
   ]
  },
  {
   "cell_type": "code",
   "execution_count": 213,
   "metadata": {},
   "outputs": [],
   "source": [
    "def get_top_articles(article_link):\n",
    "    top_articles = requests.get(str(article_link))\n",
    "    data = top_articles.json()\n",
    "    return data"
   ]
  },
  {
   "cell_type": "code",
   "execution_count": 214,
   "metadata": {},
   "outputs": [],
   "source": [
    "def get_specific_article(article_number, top_articles):\n",
    "    specific_article = top_articles['items'][0]['articles'][article_number]['article']\n",
    "    return specific_article"
   ]
  },
  {
   "cell_type": "code",
   "execution_count": 215,
   "metadata": {},
   "outputs": [],
   "source": [
    "def get_wikipedia_article(specific_article):\n",
    "    page = wikipedia.summary(str(specific_article))\n",
    "    return page"
   ]
  },
  {
   "cell_type": "code",
   "execution_count": 275,
   "metadata": {},
   "outputs": [],
   "source": [
    "def create_question_from_article(page):\n",
    "    first_sentence = re.split('[. ] ',str(page))[0] + '.'\n",
    "    second_sentence = re.split('[. ] ',str(page))[1] + '.'\n",
    "    return first_sentence, second_sentence"
   ]
  },
  {
   "cell_type": "code",
   "execution_count": 267,
   "metadata": {},
   "outputs": [],
   "source": [
    "def hide_word_and_return_question(first_sentence):\n",
    "    blank = re.split('( is | was )',str(first_sentence),1)[0]\n",
    "    question = 'BLANK is/was ' + re.split('( is | was )',str(first_sentence), 1)[2]\n",
    "    return blank, question"
   ]
  },
  {
   "cell_type": "code",
   "execution_count": 287,
   "metadata": {},
   "outputs": [],
   "source": [
    "def turn_difficulty_to_range(difficulty):\n",
    "    # user provides difficulty and we must create a range to select from\n",
    "    # difficulty 10 should be bottom 10% of articles\n",
    "    # check integer is between 1-10\n",
    "    assert (difficulty < 11) & (difficulty > 0)\n",
    "    \n",
    "    #calculate bounds\n",
    "    lower_bound = difficulty * 100\n",
    "    upper_bound = difficulty * 100 - 100\n",
    "    return lower_bound, upper_bound"
   ]
  },
  {
   "cell_type": "code",
   "execution_count": 476,
   "metadata": {},
   "outputs": [],
   "source": [
    "import random\n",
    "import time\n",
    "def get_quiz_question(year,month,difficulty):\n",
    "    # range of choice is difficulty\n",
    "    # can also adjust date range\n",
    "    year = str(year)\n",
    "#     print(month)\n",
    "    month = '00' + str(month)\n",
    "    month = month[-2:]\n",
    "    print(month)\n",
    "    \n",
    "    lower_bound, upper_bound = turn_difficulty_to_range(int(difficulty))\n",
    "    article_number = random.randrange(upper_bound,lower_bound)\n",
    "    top_link = 'https://wikimedia.org/api/rest_v1/metrics/pageviews/top/en.wikipedia/all-access/{}/{}/all-days'.format(year, month)\n",
    "    print(top_link)\n",
    "    articles = get_top_articles(top_link)\n",
    "    specific_article = get_specific_article(article_number,articles)\n",
    "    wikipedia_page = get_wikipedia_article(specific_article)\n",
    "    first_sentence, second_sentence = create_question_from_article(wikipedia_page)\n",
    "    answer, question = hide_word_and_return_question(first_sentence)\n",
    "    \n",
    "    print('Your question is...')\n",
    "    print(question)\n",
    "    # Wait for the user input to terminate the program\n",
    "    \n",
    "\n",
    "    print('The hint is...')\n",
    "    print(second_sentence)\n",
    "    \n",
    "    # Wait for the user input to terminate the program\n",
    "    time.sleep(10)\n",
    "    print('The answer is: ')\n",
    "    print(answer)\n",
    "    \n",
    "    return question, second_sentence, answer"
   ]
  },
  {
   "cell_type": "code",
   "execution_count": 437,
   "metadata": {},
   "outputs": [
    {
     "name": "stdout",
     "output_type": "stream",
     "text": [
      "06\n",
      "https://wikimedia.org/api/rest_v1/metrics/pageviews/top/en.wikipedia/all-access/2020/06/all-days\n"
     ]
    }
   ],
   "source": [
    "question, second_sentence, answer =  get_quiz_question(year = '2020', month = '06', difficulty = 1)\n",
    "# difficulty runs 1-10"
   ]
  },
  {
   "cell_type": "code",
   "execution_count": 451,
   "metadata": {},
   "outputs": [
    {
     "data": {
      "text/plain": [
       "'BLANK is/was an American political commentator, lawyer, and author, serving as the 31st and current White House Press Secretary since April 2020.\\nA graduate of Georgetown University and Harvard University, she began her media career as a producer for Huckabee on Fox News and later worked as a commentator on CNN.'"
      ]
     },
     "execution_count": 451,
     "metadata": {},
     "output_type": "execute_result"
    }
   ],
   "source": [
    "question"
   ]
  },
  {
   "cell_type": "code",
   "execution_count": 439,
   "metadata": {},
   "outputs": [
    {
     "data": {
      "text/plain": [
       "'In 2017, she was appointed national spokesperson for the Republican National Committee and on April 7, 2020, was appointed as White House Press Secretary in the Trump administration.\\nAt the start of the 2016 presidential election, she was critical of then-candidate Trump, calling his remarks about Mexican immigrants \"racist\" and suggesting it was \"inauthentic\" to call him a Republican.'"
      ]
     },
     "execution_count": 439,
     "metadata": {},
     "output_type": "execute_result"
    }
   ],
   "source": [
    "second_sentence"
   ]
  },
  {
   "cell_type": "code",
   "execution_count": 440,
   "metadata": {},
   "outputs": [
    {
     "data": {
      "text/plain": [
       "'Kayleigh McEnany (; born April 18, 1988)'"
      ]
     },
     "execution_count": 440,
     "metadata": {},
     "output_type": "execute_result"
    }
   ],
   "source": [
    "answer"
   ]
  },
  {
   "cell_type": "code",
   "execution_count": 417,
   "metadata": {},
   "outputs": [
    {
     "name": "stdout",
     "output_type": "stream",
     "text": [
      "001\n"
     ]
    },
    {
     "data": {
      "text/plain": [
       "'01'"
      ]
     },
     "execution_count": 417,
     "metadata": {},
     "output_type": "execute_result"
    }
   ],
   "source": [
    "month = '00' + str(1)\n",
    "print(month)\n",
    "month[-2:]"
   ]
  },
  {
   "cell_type": "code",
   "execution_count": 483,
   "metadata": {},
   "outputs": [],
   "source": [
    "from __future__ import print_function\n",
    "from ipywidgets import interact, interactive, fixed, interact_manual\n",
    "import ipywidgets as widgets\n",
    "\n",
    "\n",
    "slow = interactive(get_quiz_question, {'manual': True}, \n",
    "                   difficulty=widgets.IntSlider(min=1, max=10, step=1),\n",
    "                   month=widgets.IntSlider(min=1, max=12, step=1),\n",
    "                   year=widgets.IntSlider(min=2016, max=2020, step=1))"
   ]
  },
  {
   "cell_type": "code",
   "execution_count": 484,
   "metadata": {},
   "outputs": [
    {
     "data": {
      "application/vnd.jupyter.widget-view+json": {
       "model_id": "dfffd196c3b34d4487c56faddfb5da6e",
       "version_major": 2,
       "version_minor": 0
      },
      "text/plain": [
       "interactive(children=(IntSlider(value=2016, description='year', max=2020, min=2016), IntSlider(value=1, descri…"
      ]
     },
     "metadata": {},
     "output_type": "display_data"
    }
   ],
   "source": [
    "slow"
   ]
  },
  {
   "cell_type": "code",
   "execution_count": null,
   "metadata": {},
   "outputs": [],
   "source": []
  },
  {
   "cell_type": "code",
   "execution_count": 488,
   "metadata": {},
   "outputs": [
    {
     "name": "stdout",
     "output_type": "stream",
     "text": [
      "0 1\n",
      "1 0\n",
      "0 1\n",
      "1 0\n",
      "0 1\n",
      "1 0\n",
      "0 1\n",
      "1 0\n",
      "0 1\n",
      "1 0\n"
     ]
    }
   ],
   "source": [
    "for i in range(10):\n",
    "    j = i%2\n",
    "    q = abs(j - 1)\n",
    "    print(j,q)"
   ]
  },
  {
   "cell_type": "code",
   "execution_count": null,
   "metadata": {},
   "outputs": [],
   "source": [
    "if q then subtract 1 and take abs value????\n",
    "what you need is a variable that changes every time unless show answer is clicked\n"
   ]
  }
 ],
 "metadata": {
  "kernelspec": {
   "display_name": "auto_quiz",
   "language": "python",
   "name": "auto_quiz"
  },
  "language_info": {
   "codemirror_mode": {
    "name": "ipython",
    "version": 3
   },
   "file_extension": ".py",
   "mimetype": "text/x-python",
   "name": "python",
   "nbconvert_exporter": "python",
   "pygments_lexer": "ipython3",
   "version": "3.7.3"
  }
 },
 "nbformat": 4,
 "nbformat_minor": 4
}
